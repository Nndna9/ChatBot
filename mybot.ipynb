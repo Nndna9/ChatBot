{
  "nbformat": 4,
  "nbformat_minor": 0,
  "metadata": {
    "colab": {
      "provenance": []
    },
    "kernelspec": {
      "name": "python3",
      "display_name": "Python 3"
    },
    "language_info": {
      "name": "python"
    }
  },
  "cells": [
    {
      "cell_type": "code",
      "execution_count": null,
      "metadata": {
        "colab": {
          "base_uri": "https://localhost:8080/"
        },
        "id": "tQ4_-5ZIyfe9",
        "outputId": "146592c9-9fd4-4f37-b38a-ec3ad8d24bc3"
      },
      "outputs": [
        {
          "output_type": "stream",
          "name": "stdout",
          "text": [
            "You: hello\n",
            "Bot: Hello! How can I help you today?\n",
            "You: how are you?\n",
            "Bot: I'm a bot, so I don't have feelings, but I'm functioning properly!\n",
            "You: who made you?\n",
            "Bot: I was created by Nandana Santhosh.\n",
            "You: ok\n",
            "Bot: Okay\n",
            "You: bye\n",
            "Bot: Goodbye! Have a great day!\n"
          ]
        }
      ],
      "source": [
        "# Define a dictionary with predefined responses\n",
        "responses = {\n",
        "    \"hi\": \"Hello there! How can I assist you today?\",\n",
        "    \"hello\": \"Hello! How can I help you today?\",\n",
        "    \"what's your name?\": \"I'm a bot, so I don't have a name.You can call me yours\",\n",
        "    \"how old are you?\": \"I'm a bot, so I don't have an age.\",\n",
        "    \"what's your favorite color?\": \"I'm a bot, so I don't have a favorite color.\",\n",
        "    \"what's your favorite food?\": \"I'm a bot, so I don't have a favorite food.\",\n",
        "    \"what's your favorite animal?\": \"I'm a bot, But I love dogs\",\n",
        "    \"what's your favorite movie?\": \"I love the Conjuring!\",\n",
        "    \"what's your favorite show?\": \"I love modern family.\",\n",
        "    \"what's your favorite book?\": \"I love DSA, bet you don't\",\n",
        "    \"what's your favorite song?\": \"Softcore by by The Neighbourhood\",\n",
        "    \"what's your favorite game?\": \"I'm a bot, but I'd play Among us with you.\",\n",
        "    \"what's your favorite sport?\": \"I'm a bot, so I don't have a favorite sport.\",\n",
        "    \"what's your favorite quote?\": \"It is never too late to be what you might have been\",\n",
        "    \"what's your favorite artist?\": \"Tate Mcrae\",\n",
        "    \"what's your favorite city?\": \"Singapore, in love with marina bay gardens\",\n",
        "    \"how are you?\": \"I'm a bot, so I don't have feelings, but I'm functioning properly!\",\n",
        "    \"bye\": \"Goodbye! Have a great day!\",\n",
        "    \"help\": \"Sure, I can help you. What do you need assistance with?\",\n",
        "    \"thanks\": \"You're welcome\",\n",
        "    \"thank you\": \"You're welcome :)\",\n",
        "    \"default\": \"I'm not sure how to respond to that. Can you try asking something else?\",\n",
        "    \"who made you?\": \"I was created by Nandana Santhosh.\",\n",
        "    \"ok\": \"Okay\",\n",
        "    # Add more responses as needed\n",
        "}\n",
        "\n",
        "# Function to get the bot response\n",
        "def get_bot_response(user_input):\n",
        "    # Make the input lowercase to match the dictionary keys\n",
        "    user_input = user_input.lower()\n",
        "\n",
        "    # Return the matching response if it exists, otherwise return a default response\n",
        "    return responses.get(user_input, \"I'm not sure how to respond to that. Can you try asking something else?\")\n",
        "\n",
        "# Main chat loop\n",
        "while True:\n",
        "    user_input = input(\"You: \")\n",
        "    if user_input.lower() == \"quit\":\n",
        "        print(\"Bot: Goodbye!\")\n",
        "        break\n",
        "\n",
        "    response = get_bot_response(user_input)\n",
        "    print(f\"Bot: {response}\")"
      ]
    }
  ]
}